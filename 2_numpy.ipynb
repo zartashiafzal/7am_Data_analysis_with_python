{
 "cells": [
  {
   "cell_type": "markdown",
   "metadata": {},
   "source": [
    "# Week 2: NumPy Mastery\n",
    "\n",
    "*notebook for classes: January 8th to January 10th, 2024*\n",
    "\n",
    "Welcome to Week 2 of our Data Analysis with Python course! As we dig deeper into the intricacies of this powerful library, be prepared for a week filled with insightful exploration and hands-on learning."
   ]
  }, 
{
   "cell_type": "markdown",
   "metadata": {},
   "source": [
    "**Let's connect** \n",
    "> **Course Instructor:** Zartashia Afzal: https://www.linkedin.com/in/zartashiaafzal/\n",
    ">\n",
    "> \n",
    "> **Moderators:**\n",
    "> Muhammad Qasim Ali: https://www.linkedin.com/in/muhammad-qasim-ali/\n",
    ">\n",
    "> Ayesha Mehboob: https://www.linkedin.com/in/ayesha-mehboob-379643284/\n",
    "  \n"
   ]
  },
  {
   "cell_type": "markdown",
   "metadata": {},
   "source": [
    "# Table of content\n",
    "\n",
    "1- Array dimensionality\n",
    "\n",
    "2- Basic indexing and slicing\n",
    "\n",
    "3- Boolean indexing\n",
    "\n",
    "4- Fancy indexing"
   ]
  },
  {
   "cell_type": "markdown",
   "metadata": {},
   "source": [
    "# Array dimensionality\n",
    "Sometimes mathematicians refer terms vector, matrix and tensor for arrays of NumPy.\n",
    "\n",
    "> 1 D Array is also  called as Vector \n",
    "\n",
    "> 2 D Array is also called as Matrix\n",
    "\n",
    "> 3 D Array is also called as Tensor"
   ]
  },
  {
   "cell_type": "markdown",
   "metadata": {},
   "source": [
    "4 dimensional array is infact a 2D array of 3D arrays"
   ]
  },
  {
   "cell_type": "markdown",
   "metadata": {},
   "source": [
    "## Basic indexing and slicing\n"
   ]
  },
  {
   "cell_type": "code",
   "execution_count": null,
   "metadata": {},
   "outputs": [
    {
     "data": {
      "text/plain": [
       "array([ 0,  1,  2,  3,  4,  5,  6,  7,  8,  9, 10, 11, 12, 13, 14])"
      ]
     },
     "metadata": {},
     "output_type": "display_data"
    }
   ],
   "source": [
    "arr = np.arange(15)\n",
    "arr"
   ]
  },
  {
   "cell_type": "code",
   "execution_count": null,
   "metadata": {},
   "outputs": [
    {
     "data": {
      "text/plain": [
       "8"
      ]
     },
     "metadata": {},
     "output_type": "display_data"
    }
   ],
   "source": [
    "arr[8]"
   ]
  },
  {
   "cell_type": "code",
   "execution_count": null,
   "metadata": {},
   "outputs": [
    {
     "data": {
      "text/plain": [
       "array([4, 5])"
      ]
     },
     "metadata": {},
     "output_type": "display_data"
    }
   ],
   "source": [
    "arr[4:6]"
   ]
  },
  {
   "cell_type": "markdown",
   "metadata": {},
   "source": [
    "## Broadcasting and Array Slices in NumPy\n",
    "\n",
    "### 1. Broadcasting Scalar Values\n",
    "\n",
    "In NumPy, the assignment of a scalar value to a slice results in the scalar being broadcasted across the entire selected slice. Broadcasting is a powerful feature that simplifies operations on arrays, allowing for efficient element-wise computations without the need for explicit loops.\n",
    "\n",
    "### 2. Views vs. Copies: Lists vs. ndarrays\n",
    "\n",
    "A key distinction between Python lists and NumPy ndarrays lies in the behavior of array slices. For ndarrays, slices act as views to the original arrays, avoiding unnecessary data copying. This means that modifications made to a view impact the underlying original array. In contrast, when slicing lists, a new list is created with a copy of the selected elements.\n",
    "\n",
    "### 3. Efficient Operations and Memory Management\n",
    "\n",
    "- **Broadcasting Efficiency:** Broadcasting enhances the efficiency of array operations by eliminating the need for redundant copies and explicit looping.\n",
    "\n",
    "- **View-Based Slices:** The view-based nature of array slices in NumPy contributes to memory efficiency, as modifications to slices directly affect the original array without creating additional copies.\n",
    "\n",
    "Understanding these features is crucial for efficient and memory-conscious data manipulation in NumPy. While broadcasting simplifies array operations, users should be mindful of the view-based behavior of slices to ensure desired outcomes when modifying array elements.\n"
   ]
  },
  {
   "cell_type": "code",
   "execution_count": null,
   "metadata": {},
   "outputs": [],
   "source": [
    "arr[5:7] = 12"
   ]
  },
  {
   "cell_type": "code",
   "execution_count": null,
   "metadata": {},
   "outputs": [
    {
     "data": {
      "text/plain": [
       "array([ 0,  1,  2,  3,  4, 12, 12,  7,  8,  9, 10, 11, 12, 13, 14])"
      ]
     },
     "metadata": {},
     "output_type": "display_data"
    }
   ],
   "source": [
    "arr"
   ]
  },
  {
   "cell_type": "markdown",
   "metadata": {},
   "source": [
    ">   In NumPy, a \"bare\" slice, denoted by `[:]`, is a concise notation that allows for assigning values to all elements in an array. This simple syntax provides a convenient way to perform operations on the entire array without specifying individual indices."
   ]
  },
  {
   "cell_type": "code",
   "execution_count": null,
   "metadata": {},
   "outputs": [
    {
     "data": {
      "text/plain": [
       "array([23, 23, 23, 23, 23, 23, 23, 23, 23, 23, 23, 23, 23, 23, 23])"
      ]
     },
     "metadata": {},
     "output_type": "display_data"
    }
   ],
   "source": [
    "arr[:] = 23\n",
    "arr"
   ]
  },
  {
   "cell_type": "markdown",
   "metadata": {},
   "source": [
    ">   NumPy's design prioritizes efficient handling of very large arrays.It modifies the original array instead of making a new copy for new changes. Restricting the automatic copying to array slices is a deliberate choice aimed at avoiding potential performance and memory issues. In NumPy, if there is a need to create a copy, it requires explicit mention to ensure intentional and controlled memory usage.\n"
   ]
  },
  {
   "cell_type": "code",
   "execution_count": null,
   "metadata": {},
   "outputs": [],
   "source": [
    "arr_copy = arr[3:6].copy()\n",
    "\n"
   ]
  },
  {
   "cell_type": "code",
   "execution_count": null,
   "metadata": {},
   "outputs": [
    {
     "data": {
      "text/plain": [
       "array([23, 23, 23])"
      ]
     },
     "metadata": {},
     "output_type": "display_data"
    }
   ],
   "source": [
    "arr_copy"
   ]
  },
  {
   "cell_type": "code",
   "execution_count": null,
   "metadata": {},
   "outputs": [],
   "source": [
    "arr_copy[:] = 10"
   ]
  },
  {
   "cell_type": "code",
   "execution_count": null,
   "metadata": {},
   "outputs": [
    {
     "data": {
      "text/plain": [
       "array([10, 10, 10])"
      ]
     },
     "metadata": {},
     "output_type": "display_data"
    }
   ],
   "source": [
    "arr_copy"
   ]
  },
  {
   "cell_type": "code",
   "execution_count": null,
   "metadata": {},
   "outputs": [
    {
     "data": {
      "text/plain": [
       "array([23, 23, 23, 23, 23, 23, 23, 23, 23, 23, 23, 23, 23, 23, 23])"
      ]
     },
     "metadata": {},
     "output_type": "display_data"
    }
   ],
   "source": [
    "arr # Now in this case when changes were made in copy the original array will remain the same"
   ]
  },
  {
   "cell_type": "markdown",
   "metadata": {},
   "source": [
    "### Accessing Elements in Higher-Dimensional Arrays\n",
    "\n",
    "1. **Array Elements as Arrays:**\n",
    "   - In higher-dimensional arrays, elements at each index are arrays rather than scalars.\n",
    "\n",
    "2. **Accessing Individual Elements:**\n",
    "   - Individual elements can be accessed either recursively or through a comma-separated list.\n",
    "\n",
    "3. **Understanding Axes:**\n",
    "   - Axis 0 represents rows, and axis 1 represents columns in the context of array operations.\n"
   ]
  },
  {
   "cell_type": "code",
   "execution_count": null,
   "metadata": {},
   "outputs": [
    {
     "data": {
      "text/plain": [
       "array([4, 5, 6])"
      ]
     },
     "metadata": {},
     "output_type": "display_data"
    }
   ],
   "source": [
    "arr2d  = np.array([[1,2,3],[4,5,6],[7,8,9]])\n",
    "arr2d[1]"
   ]
  },
  {
   "cell_type": "code",
   "execution_count": null,
   "metadata": {},
   "outputs": [
    {
     "data": {
      "text/plain": [
       "3"
      ]
     },
     "metadata": {},
     "output_type": "display_data"
    }
   ],
   "source": [
    "arr2d[0][2]# Accessing the element at row index 0 and column index 2 in a 2D array (arr2d)\n"
   ]
  },
  {
   "cell_type": "code",
   "execution_count": null,
   "metadata": {},
   "outputs": [
    {
     "data": {
      "text/plain": [
       "3"
      ]
     },
     "metadata": {},
     "output_type": "display_data"
    }
   ],
   "source": [
    "arr2d[0,2]"
   ]
  },
  {
   "cell_type": "code",
   "execution_count": null,
   "metadata": {},
   "outputs": [
    {
     "data": {
      "text/plain": [
       "6"
      ]
     },
     "metadata": {},
     "output_type": "display_data"
    }
   ],
   "source": [
    "arr2d[1,2]"
   ]
  },
  {
   "cell_type": "markdown",
   "metadata": {},
   "source": [
    "### Omitting Lower Indices and Assigning Values to Higher-Dimensional Arrays\n",
    "\n",
    "1. **Retrieving Values Without Lower Indices**\n",
    "\n",
    "When lower indices are omitted, all values present in the higher index will be retrieved. This provides a concise way to access and display a subset of data without specifying lower indices explicitly.\n",
    "\n",
    "2. **Assigning Scalar and Array Values to Higher-Dimensional Arrays**\n",
    "\n",
    "Higher-dimensional arrays in NumPy support the assignment of both scalar and array values. This flexibility allows for efficient manipulation and updating of data in arrays of varying dimensions.\n"
   ]
  },
  {
   "cell_type": "code",
   "execution_count": null,
   "metadata": {},
   "outputs": [
    {
     "data": {
      "text/plain": [
       "array([1, 2, 3])"
      ]
     },
     "metadata": {},
     "output_type": "display_data"
    }
   ],
   "source": [
    "arr2d[0]"
   ]
  },
  {
   "cell_type": "code",
   "execution_count": null,
   "metadata": {},
   "outputs": [
    {
     "data": {
      "text/plain": [
       "array([[12, 12, 12],\n",
       "       [ 4,  5,  6],\n",
       "       [ 7,  8,  9]])"
      ]
     },
     "metadata": {},
     "output_type": "display_data"
    }
   ],
   "source": [
    "# Create a copy of the second row of the 2D array 'arr2d'\n",
    "arr_copy = arr2d[1].copy()\n",
    "\n",
    "# Update the entire first row of 'arr2d' with a new value (12)\n",
    "arr2d[0] = 12\n",
    "\n",
    "# Display the modified 2D array 'arr2d'\n",
    "arr2d\n"
   ]
  },
  {
   "cell_type": "code",
   "execution_count": null,
   "metadata": {},
   "outputs": [
    {
     "data": {
      "text/plain": [
       "array([[4, 5, 6],\n",
       "       [4, 5, 6],\n",
       "       [7, 8, 9]])"
      ]
     },
     "metadata": {},
     "output_type": "display_data"
    }
   ],
   "source": [
    "arr2d[0]=arr_copy\n",
    "arr2d"
   ]
  },
  {
   "cell_type": "markdown",
   "metadata": {},
   "source": [
    "### Indexing with Slices\n",
    "Just like Python lists, ndarrays can also be sliced in the same format."
   ]
  },
  {
   "cell_type": "code",
   "execution_count": null,
   "metadata": {},
   "outputs": [
    {
     "data": {
      "text/plain": [
       "array([23, 23, 23, 23, 23, 23, 23, 23, 23, 23, 23, 23, 23, 23, 23])"
      ]
     },
     "metadata": {},
     "output_type": "display_data"
    }
   ],
   "source": [
    "arr"
   ]
  },
  {
   "cell_type": "code",
   "execution_count": null,
   "metadata": {},
   "outputs": [
    {
     "data": {
      "text/plain": [
       "array([23, 23, 23, 23, 23])"
      ]
     },
     "metadata": {},
     "output_type": "display_data"
    }
   ],
   "source": [
    "arr[1:6]"
   ]
  },
  {
   "cell_type": "markdown",
   "metadata": {},
   "source": [
    "#### Slicing higher dimensional arrays is a bit different.\n",
    "#### A slice selects elements from the axis 0 or rows.\n",
    "#### To select multiple axis elements, we need to pass multiple slices."
   ]
  },
  {
   "attachments": {
    "image.png": {
     "image/png": "[encoded data removed]"
    }
   },
   "cell_type": "markdown",
   "metadata": {},
   "source": [
    "![image.png](attachment:image.png)"
   ]
  },
  {
   "cell_type": "code",
   "execution_count": null,
   "metadata": {},
   "outputs": [
    {
     "data": {
      "text/plain": [
       "array([[4, 5, 6],\n",
       "       [4, 5, 6],\n",
       "       [7, 8, 9]])"
      ]
     },
     "metadata": {},
     "output_type": "display_data"
    }
   ],
   "source": [
    "arr2d"
   ]
  },
  {
   "cell_type": "code",
   "execution_count": null,
   "metadata": {},
   "outputs": [
    {
     "data": {
      "text/plain": [
       "array([[4, 5, 6],\n",
       "       [4, 5, 6]])"
      ]
     },
     "metadata": {},
     "output_type": "display_data"
    }
   ],
   "source": [
    "arr2d[:2]     # select the first two rows of arr2d."
   ]
  },
  {
   "cell_type": "code",
   "execution_count": null,
   "metadata": {},
   "outputs": [
    {
     "data": {
      "text/plain": [
       "array([[4, 5, 6],\n",
       "       [4, 5, 6],\n",
       "       [7, 8, 9]])"
      ]
     },
     "metadata": {},
     "output_type": "display_data"
    }
   ],
   "source": [
    "arr2d"
   ]
  },
  {
   "cell_type": "code",
   "execution_count": null,
   "metadata": {},
   "outputs": [
    {
     "data": {
      "text/plain": [
       "array([[5, 6],\n",
       "       [5, 6]])"
      ]
     },
     "metadata": {},
     "output_type": "display_data"
    }
   ],
   "source": [
    "arr2d[:2, 1:]  # pass multiple slices just like you can pass multiple indexes\n",
    "# When slicing like this, you always obtain array views of the same number of dimen‐\n",
    "# sions. "
   ]
  },
  {
   "cell_type": "markdown",
   "metadata": {},
   "source": [
    "**:2** in the first dimension: This specifies that you want to include rows from the beginning up to (but not including) index 2. It effectively selects the first two rows.\n",
    "\n",
    "**1:** in the second dimension: This specifies that you want to include columns from index 1 onwards. It effectively selects columns starting from the second column (index 1) to the end of the array."
   ]
  },
  {
   "cell_type": "markdown",
   "metadata": {},
   "source": [
    "#### Slicing will always get you array views of the higher arrays.\n",
    "#### By mixing the integer indexes and slices, you can get lower arrays."
   ]
  },
  {
   "cell_type": "code",
   "execution_count": null,
   "metadata": {},
   "outputs": [
    {
     "data": {
      "text/plain": [
       "array([[4, 5, 6],\n",
       "       [4, 5, 6],\n",
       "       [7, 8, 9]])"
      ]
     },
     "metadata": {},
     "output_type": "display_data"
    }
   ],
   "source": [
    "arr2d"
   ]
  },
  {
   "cell_type": "code",
   "execution_count": null,
   "metadata": {},
   "outputs": [
    {
     "data": {
      "text/plain": [
       "array([[4, 5, 6],\n",
       "       [7, 8, 9]])"
      ]
     },
     "metadata": {},
     "output_type": "display_data"
    }
   ],
   "source": [
    "arr2d[1:, :3]"
   ]
  },
  {
   "cell_type": "code",
   "execution_count": null,
   "metadata": {},
   "outputs": [
    {
     "data": {
      "text/plain": [
       "array([4, 5, 6])"
      ]
     },
     "metadata": {},
     "output_type": "display_data"
    }
   ],
   "source": [
    "arr2d[1,:3]"
   ]
  },
  {
   "cell_type": "code",
   "execution_count": null,
   "metadata": {},
   "outputs": [
    {
     "data": {
      "text/plain": [
       "array([6, 6, 9])"
      ]
     },
     "metadata": {},
     "output_type": "display_data"
    }
   ],
   "source": [
    "arr2d[:3,2]"
   ]
  },
  {
   "cell_type": "markdown",
   "metadata": {},
   "source": [
    "#### Assigning single value to a slice changes all the elements in the slice"
   ]
  },
  {
   "cell_type": "code",
   "execution_count": null,
   "metadata": {},
   "outputs": [
    {
     "data": {
      "text/plain": [
       "array([[4, 5, 0],\n",
       "       [4, 5, 0],\n",
       "       [7, 8, 9]])"
      ]
     },
     "metadata": {},
     "output_type": "display_data"
    }
   ],
   "source": [
    "arr2d[:2,2] = 0\n",
    "arr2d"
   ]
  },
  {
   "attachments": {
    "image.png": {
     "image/png": "[encoded data removed]"
    }
   },
   "cell_type": "markdown",
   "metadata": {},
   "source": [
    "![image.png](attachment:image.png)"
   ]
  },
  {
   "cell_type": "markdown",
   "metadata": {},
   "source": [
    "# Boolean Indexing\n",
    "\n",
    "Boolean indexing in NumPy involves vectorized comparisons with arrays, resulting in a Boolean array. This Boolean array can be used for indexing the original array.\n"
   ]
  },
  {
   "cell_type": "code",
   "execution_count": null,
   "metadata": {},
   "outputs": [
    {
     "data": {
      "text/plain": [
       "array([ True, False, False,  True, False, False, False])"
      ]
     },
     "metadata": {},
     "output_type": "display_data"
    }
   ],
   "source": [
    "names = np.array(['Mahnoor', 'Ayesha', 'Will', 'Mahnoor', 'Will', 'Ayesha', 'Ayesha'])\n",
    "names =='Mahnoor'"
   ]
  },
  {
   "cell_type": "code",
   "execution_count": null,
   "metadata": {},
   "outputs": [
    {
     "data": {
      "text/plain": [
       "array(['Ayesha', 'Will', 'Will', 'Ayesha', 'Ayesha'], dtype='<U7')"
      ]
     },
     "metadata": {},
     "output_type": "display_data"
    }
   ],
   "source": [
    "names[names != 'Mahnoor']"
   ]
  },
  {
   "cell_type": "code",
   "execution_count": null,
   "metadata": {},
   "outputs": [
    {
     "data": {
      "text/plain": [
       "array(['Mahnoor', 'Ayesha', 'Will', 'Mahnoor', 'Will', 'Ayesha', 'Ayesha'],\n",
       "      dtype='<U7')"
      ]
     },
     "metadata": {},
     "output_type": "display_data"
    }
   ],
   "source": [
    "names"
   ]
  },
  {
   "cell_type": "code",
   "execution_count": null,
   "metadata": {},
   "outputs": [
    {
     "data": {
      "text/plain": [
       "array([[-0.3843114 ,  0.36393136, -0.14186255,  0.39032766],\n",
       "       [ 0.45071762, -0.87970416, -0.11478368,  0.29576847],\n",
       "       [-0.73863148, -0.60716899,  0.41679211, -1.08330498],\n",
       "       [-0.51108175, -0.34601297,  1.17651688,  0.87251259],\n",
       "       [-1.16616224, -2.31543321, -0.05657731,  1.33964592],\n",
       "       [-0.93537209, -0.10719635,  1.06200373, -0.54938915],\n",
       "       [ 0.17555208,  0.49760441,  2.15389122,  0.72504489]])"
      ]
     },
     "metadata": {},
     "output_type": "display_data"
    }
   ],
   "source": [
    "data = np.random.randn(7,4) # name arrays has seven names in it\n",
    "data"
   ]
  },
  {
   "cell_type": "code",
   "execution_count": null,
   "metadata": {},
   "outputs": [
    {
     "data": {
      "text/plain": [
       "array([[-0.3843114 ,  0.36393136, -0.14186255,  0.39032766],\n",
       "       [-0.51108175, -0.34601297,  1.17651688,  0.87251259]])"
      ]
     },
     "metadata": {},
     "output_type": "display_data"
    }
   ],
   "source": [
    "data[names=='Mahnoor']"
   ]
  },
  {
   "cell_type": "markdown",
   "metadata": {},
   "source": [
    "### Boolean Indexing in NumPy\n",
    "\n",
    "When using boolean indexing in NumPy, it's crucial to note that the boolean arrays employed for indexing must have the same length as the array they are indexing. Failure to adhere to this length requirement might not result in an immediate error, making it necessary to exercise caution when utilizing this feature.\n",
    "\n",
    "Key points:\n",
    "\n",
    "1. **Length Consistency:** Ensure that boolean arrays used for indexing have the same length as the array being indexed.\n",
    "\n",
    "2. **Error Handling:** The boolean selection will not raise an error if the boolean array's length is incorrect. Be cautious to avoid unintended outcomes.\n",
    "\n",
    "3. **Mixing with Slices and Integers:** NumPy allows the mixing of boolean arrays with slices or integers, providing flexibility in indexing operations.\n"
   ]
  },
  {
   "cell_type": "code",
   "execution_count": null,
   "metadata": {},
   "outputs": [
    {
     "data": {
      "text/plain": [
       "array([[-0.14186255,  0.39032766],\n",
       "       [ 1.17651688,  0.87251259]])"
      ]
     },
     "metadata": {},
     "output_type": "display_data"
    }
   ],
   "source": [
    "data[names == 'Mahnoor', 2:]"
   ]
  },
  {
   "cell_type": "code",
   "execution_count": null,
   "metadata": {},
   "outputs": [
    {
     "data": {
      "text/plain": [
       "array(['Mahnoor', 'Ayesha', 'Will', 'Mahnoor', 'Will', 'Ayesha', 'Ayesha'],\n",
       "      dtype='<U7')"
      ]
     },
     "metadata": {},
     "output_type": "display_data"
    }
   ],
   "source": [
    "names"
   ]
  },
  {
   "cell_type": "code",
   "execution_count": null,
   "metadata": {},
   "outputs": [
    {
     "data": {
      "text/plain": [
       "array([[-0.3843114 ,  0.36393136, -0.14186255,  0.39032766],\n",
       "       [ 0.45071762, -0.87970416, -0.11478368,  0.29576847],\n",
       "       [-0.73863148, -0.60716899,  0.41679211, -1.08330498],\n",
       "       [-0.51108175, -0.34601297,  1.17651688,  0.87251259],\n",
       "       [-1.16616224, -2.31543321, -0.05657731,  1.33964592],\n",
       "       [-0.93537209, -0.10719635,  1.06200373, -0.54938915],\n",
       "       [ 0.17555208,  0.49760441,  2.15389122,  0.72504489]])"
      ]
     },
     "metadata": {},
     "output_type": "display_data"
    }
   ],
   "source": [
    "data"
   ]
  },
  {
   "cell_type": "code",
   "execution_count": null,
   "metadata": {},
   "outputs": [
    {
     "data": {
      "text/plain": [
       "array([0.39032766, 0.87251259])"
      ]
     },
     "metadata": {},
     "output_type": "display_data"
    }
   ],
   "source": [
    "data[names == 'Mahnoor', 3]"
   ]
  },
  {
   "cell_type": "markdown",
   "metadata": {},
   "source": [
    "\n",
    "\n",
    "1. **Selection Outside a Condition:**\n",
    "   - Use the `!=` operator or negate the condition using `~` to select elements outside a specified condition.\n",
    "\n",
    "2. **Negation with the ~ Operator:**\n",
    "   - The `~` operator is useful for negating an existing general condition, providing a straightforward way to invert the selection.\n",
    "\n",
    "3. **Combining Multiple Conditions:**\n",
    "   - Employ arithmetic operators `&` and `|` to combine multiple conditions. Note that standard Python 'and' and 'or' do not work in this context.\n",
    "\n",
    "4. **Boolean Indexing and Data Copy:**\n",
    "   - Be aware that boolean indexing always results in a copy of the data, even if there are no modifications. This behavior ensures data integrity during indexing operations.\n"
   ]
  },
  {
   "cell_type": "markdown",
   "metadata": {},
   "source": [
    ">   The `~ operator` in Python is called the `bitwise NOT` operator. It performs the bitwise negation of the bits in its operand. When applied to integers, it flips each bit from 0 to 1 and vice versa."
   ]
  },
  {
   "cell_type": "code",
   "execution_count": null,
   "metadata": {},
   "outputs": [
    {
     "data": {
      "text/plain": [
       "array([False,  True,  True, False,  True,  True,  True])"
      ]
     },
     "metadata": {},
     "output_type": "display_data"
    }
   ],
   "source": [
    "names != 'Mahnoor'"
   ]
  },
  {
   "cell_type": "code",
   "execution_count": null,
   "metadata": {},
   "outputs": [
    {
     "data": {
      "text/plain": [
       "array([[-0.3843114 ,  0.36393136, -0.14186255,  0.39032766],\n",
       "       [-0.51108175, -0.34601297,  1.17651688,  0.87251259]])"
      ]
     },
     "metadata": {},
     "output_type": "display_data"
    }
   ],
   "source": [
    "data[names == 'Mahnoor']"
   ]
  },
  {
   "cell_type": "code",
   "execution_count": null,
   "metadata": {},
   "outputs": [
    {
     "data": {
      "text/plain": [
       "array([[ 0.45071762, -0.87970416, -0.11478368,  0.29576847],\n",
       "       [-0.73863148, -0.60716899,  0.41679211, -1.08330498],\n",
       "       [-1.16616224, -2.31543321, -0.05657731,  1.33964592],\n",
       "       [-0.93537209, -0.10719635,  1.06200373, -0.54938915],\n",
       "       [ 0.17555208,  0.49760441,  2.15389122,  0.72504489]])"
      ]
     },
     "metadata": {},
     "output_type": "display_data"
    }
   ],
   "source": [
    "data[~(names == 'Mahnoor')]\n",
    "\n",
    "# The expression `(names == 'Mahnoor')` creates a boolean mask where True corresponds to the condition being satisfied.\n",
    "\n",
    "# The tilde (~) operator is used to negate the boolean values in the mask.\n",
    "# Therefore, `~(names == 'Mahnoor')` results in a boolean mask where True corresponds to elements NOT equal to 'Mahnoor'.\n",
    "\n",
    "# Finally, this boolean mask is used to index the 'data', selecting only those rows where the corresponding 'names' are NOT equal to 'Mahnoor'.\n"
   ]
  },
  {
   "cell_type": "code",
   "execution_count": null,
   "metadata": {},
   "outputs": [
    {
     "data": {
      "text/plain": [
       "array([[ 0.45071762, -0.87970416, -0.11478368,  0.29576847],\n",
       "       [-0.73863148, -0.60716899,  0.41679211, -1.08330498],\n",
       "       [-1.16616224, -2.31543321, -0.05657731,  1.33964592],\n",
       "       [-0.93537209, -0.10719635,  1.06200373, -0.54938915],\n",
       "       [ 0.17555208,  0.49760441,  2.15389122,  0.72504489]])"
      ]
     },
     "metadata": {},
     "output_type": "display_data"
    }
   ],
   "source": [
    "cond = names == 'Mahnoor'\n",
    "data[~cond]"
   ]
  },
  {
   "cell_type": "code",
   "execution_count": null,
   "metadata": {},
   "outputs": [
    {
     "data": {
      "text/plain": [
       "array([ True, False,  True,  True,  True, False, False])"
      ]
     },
     "metadata": {},
     "output_type": "display_data"
    }
   ],
   "source": [
    "mask = (names == 'Mahnoor') | (names == 'Will')\n",
    "mask"
   ]
  },
  {
   "cell_type": "code",
   "execution_count": null,
   "metadata": {},
   "outputs": [
    {
     "data": {
      "text/plain": [
       "array([[-0.3843114 ,  0.36393136, -0.14186255,  0.39032766],\n",
       "       [-0.73863148, -0.60716899,  0.41679211, -1.08330498],\n",
       "       [-0.51108175, -0.34601297,  1.17651688,  0.87251259],\n",
       "       [-1.16616224, -2.31543321, -0.05657731,  1.33964592]])"
      ]
     },
     "metadata": {},
     "output_type": "display_data"
    }
   ],
   "source": [
    "data[mask]"
   ]
  },
  {
   "cell_type": "markdown",
   "metadata": {},
   "source": [
    "\n",
    "> Setting whole rows and columns using one-dimensional boolean array is also easy."
   ]
  },
  {
   "cell_type": "code",
   "execution_count": null,
   "metadata": {},
   "outputs": [],
   "source": [
    "data[data < 0] = 0  \n",
    "#To set all of the negative values in data to 0 data"
   ]
  },
  {
   "cell_type": "code",
   "execution_count": null,
   "metadata": {},
   "outputs": [
    {
     "data": {
      "text/plain": [
       "array(['Mahnoor', 'Ayesha', 'Will', 'Mahnoor', 'Will', 'Ayesha', 'Ayesha'],\n",
       "      dtype='<U7')"
      ]
     },
     "metadata": {},
     "output_type": "display_data"
    }
   ],
   "source": [
    "names"
   ]
  },
  {
   "cell_type": "code",
   "execution_count": null,
   "metadata": {},
   "outputs": [
    {
     "data": {
      "text/plain": [
       "array([[7.        , 7.        , 7.        , 7.        ],\n",
       "       [0.45071762, 0.        , 0.        , 0.29576847],\n",
       "       [7.        , 7.        , 7.        , 7.        ],\n",
       "       [7.        , 7.        , 7.        , 7.        ],\n",
       "       [7.        , 7.        , 7.        , 7.        ],\n",
       "       [0.        , 0.        , 1.06200373, 0.        ],\n",
       "       [0.17555208, 0.49760441, 2.15389122, 0.72504489]])"
      ]
     },
     "metadata": {},
     "output_type": "display_data"
    }
   ],
   "source": [
    "data[names != 'Ayesha'] = 7\n",
    "data"
   ]
  },
  {
   "cell_type": "markdown",
   "metadata": {},
   "source": [
    "## Fancy Indexing\n",
    "\n",
    "### 1. Definition\n",
    "Fancy Indexing refers to the technique of indexing using integer arrays.\n",
    "\n",
    "### 2. Selecting Subset of Rows\n",
    "It allows us to choose a subset of rows in a specific order by utilizing integer arrays.\n",
    "\n",
    "### 3. Negative Indices\n",
    "When using Fancy Indexing, negative indices can be employed to select rows from the end of the array.\n"
   ]
  },
  {
   "cell_type": "code",
   "execution_count": null,
   "metadata": {},
   "outputs": [
    {
     "data": {
      "text/plain": [
       "array([[0., 0., 0., 0.],\n",
       "       [1., 1., 1., 1.],\n",
       "       [2., 2., 2., 2.],\n",
       "       [3., 3., 3., 3.],\n",
       "       [4., 4., 4., 4.],\n",
       "       [5., 5., 5., 5.],\n",
       "       [6., 6., 6., 6.],\n",
       "       [7., 7., 7., 7.]])"
      ]
     },
     "metadata": {},
     "output_type": "display_data"
    }
   ],
   "source": [
    "# Create an empty NumPy array with shape (8, 4)\n",
    "arr = np.empty((8, 4))\n",
    "\n",
    "# Iterate through each row (axis 0) in the array\n",
    "for i in range(8):\n",
    "    # Assign the value of 'i' to each element in the current row\n",
    "    arr[i] = i\n",
    "\n",
    "# Display the resulting array after the loop\n",
    "arr\n",
    "\n",
    "\n",
    "# The loop is added to populate each row of the NumPy array with a specific value. \n",
    "# In this case, the loop iterates through the rows of the array, and for each row, it assigns the row index (i) as \n",
    "# the value for all elements in that row.\n",
    "#  This creates a pattern where each row contains the same value as its row index.\n",
    "\n",
    "# Without the loop, you would end up with an array where each row has the same values.\n",
    "#  The loop ensures that each row gets a unique set of values based on its index. \n",
    "# The resulting array has a pattern where the values in each row correspond to the row index."
   ]
  },
  {
   "cell_type": "code",
   "execution_count": null,
   "metadata": {},
   "outputs": [
    {
     "data": {
      "text/plain": [
       "array([[4., 4., 4., 4.],\n",
       "       [3., 3., 3., 3.],\n",
       "       [0., 0., 0., 0.],\n",
       "       [2., 2., 2., 2.]])"
      ]
     },
     "metadata": {},
     "output_type": "display_data"
    }
   ],
   "source": [
    "arr[[4,3,0,2]]"
   ]
  },
  {
   "cell_type": "code",
   "execution_count": null,
   "metadata": {},
   "outputs": [
    {
     "data": {
      "text/plain": [
       "array([[5., 5., 5., 5.],\n",
       "       [3., 3., 3., 3.],\n",
       "       [1., 1., 1., 1.]])"
      ]
     },
     "metadata": {},
     "output_type": "display_data"
    }
   ],
   "source": [
    "arr[[-3,-5,-7]]"
   ]
  },
  {
   "cell_type": "markdown",
   "metadata": {},
   "source": [
    "### Exploring Multiple Index Arrays in NumPy\n",
    "\n",
    "**1. Selecting 1D Arrays with Multiple Indices**\n",
    "\n",
    "Passing multiple index arrays in NumPy allows the selection of a 1D array where each element corresponds to a tuple of respective indices. For instance, given index arrays `[[1,5,7,2],[0,3,1,2]]`, the selected elements would be (1,0), (5,3), (7,1), and (2,2).\n",
    "\n",
    "**2. Obtaining a 1D Array from Multiple Indices**\n",
    "\n",
    "When using multiple indices, the result is always a 1D array.\n",
    "\n",
    "**3. Obtaining a Rectangular Subset**\n",
    "\n",
    "To obtain a rectangular subset of data, these indices can be used as a subset.\n",
    "\n",
    "**Note That**\n",
    "\n",
    ">   Fancy Indexing, involving the use of multiple indices, always results in a copy of the data. This is a key consideration for memory management and data integrity.\n"
   ]
  },
  {
   "cell_type": "code",
   "execution_count": null,
   "metadata": {},
   "outputs": [
    {
     "data": {
      "text/plain": [
       "array([[ 0,  1,  2,  3],\n",
       "       [ 4,  5,  6,  7],\n",
       "       [ 8,  9, 10, 11],\n",
       "       [12, 13, 14, 15],\n",
       "       [16, 17, 18, 19],\n",
       "       [20, 21, 22, 23],\n",
       "       [24, 25, 26, 27],\n",
       "       [28, 29, 30, 31]])"
      ]
     },
     "metadata": {},
     "output_type": "display_data"
    }
   ],
   "source": [
    "arr = np.arange(32).reshape((8,4))\n",
    "arr"
   ]
  },
  {
   "cell_type": "code",
   "execution_count": null,
   "metadata": {},
   "outputs": [
    {
     "data": {
      "text/plain": [
       "array([ 4, 23, 29, 10])"
      ]
     },
     "metadata": {},
     "output_type": "display_data"
    }
   ],
   "source": [
    "arr[[1,5,7,2],[0,3,1,2]]"
   ]
  },
  {
   "cell_type": "markdown",
   "metadata": {},
   "source": [
    "In this case, the selection comprised elements `(1, 0), (5, 3), (7, 1), and (2, 2)`. Regardless of the array's dimensionality, which, in this instance, is two, the outcome of fancy indexing consistently yields a one-dimensional result"
   ]
  },
  {
   "cell_type": "code",
   "execution_count": null,
   "metadata": {},
   "outputs": [
    {
     "data": {
      "text/plain": [
       "array([[ 4,  7,  5,  6],\n",
       "       [20, 23, 21, 22],\n",
       "       [28, 31, 29, 30],\n",
       "       [ 8, 11,  9, 10]])"
      ]
     },
     "metadata": {},
     "output_type": "display_data"
    }
   ],
   "source": [
    "arr[[1,5,7,2]][:,[0,3,1,2]]"
   ]
  },
  {
   "cell_type": "markdown",
   "metadata": {},
   "source": [
    "arr[[1, 5, 7, 2]][:, [0, 3, 1, 2]] selects specific rows from the original array arr and then reorders the columns of those selected rows based on the specified indices. The final result is a new array with a subset of rows and columns from the original array."
   ]
  },
  {
   "cell_type": "markdown",
   "metadata": {},
   "source": [
    "### Transposing and Swapping Axes\n",
    "\n",
    "**1. Transposing - Special Form of Reshaping**\n",
    "\n",
    "Transposing is a special form of reshaping in NumPy. ndarrays provide a 'transpose' method and a special 'T' attribute for this purpose.\n",
    "\n",
    "**2. Swapping Axes - 'T' and 'swapaxes' Method**\n",
    "\n",
    "- 'T' is a shorthand for transposing and represents a special case of swapping axes.\n",
    "- Numpy also offers the 'swapaxes' method, allowing the switching of indicated axes by providing a pair of axis numbers.\n",
    "\n",
    "**3. Dot Products with np.dot**\n",
    "\n",
    "For computing dot products of arrays, the np.dot function is commonly used. It efficiently performs the dot product operation.\n",
    "\n",
    "**4. Handling Higher Arrays**\n",
    "\n",
    "When dealing with higher-dimensional arrays, the 'transpose' method can accept a tuple of axis numbers to permute the axes accordingly.\n",
    "\n",
    "**5. Return Type - Views, Not Copies**\n",
    "\n",
    "It's important to note that all these methods, including 'transpose' and 'swapaxes', return a view of the array and do not create a new copy. This behavior contributes to memory efficiency.\n"
   ]
  },
  {
   "cell_type": "code",
   "execution_count": null,
   "metadata": {},
   "outputs": [
    {
     "data": {
      "text/plain": [
       "array([[ 0,  1,  2,  3,  4],\n",
       "       [ 5,  6,  7,  8,  9],\n",
       "       [10, 11, 12, 13, 14]])"
      ]
     },
     "metadata": {},
     "output_type": "display_data"
    }
   ],
   "source": [
    "arr = np.arange(15).reshape((3,5))\n",
    "arr"
   ]
  },
  {
   "cell_type": "code",
   "execution_count": null,
   "metadata": {},
   "outputs": [
    {
     "data": {
      "text/plain": [
       "array([[ 0,  5, 10],\n",
       "       [ 1,  6, 11],\n",
       "       [ 2,  7, 12],\n",
       "       [ 3,  8, 13],\n",
       "       [ 4,  9, 14]])"
      ]
     },
     "metadata": {},
     "output_type": "display_data"
    }
   ],
   "source": [
    "arr.T"
   ]
  }
 ],
 "metadata": {
  "kernelspec": {
   "display_name": "Python 3",
   "language": "python",
   "name": "python3"
  },
  "language_info": {
   "codemirror_mode": {
    "name": "ipython",
    "version": 3
   },
   "file_extension": ".py",
   "mimetype": "text/x-python",
   "name": "python",
   "nbconvert_exporter": "python",
   "pygments_lexer": "ipython3",
   "version": "3.12.0"
  }
 },
 "nbformat": 4,
 "nbformat_minor": 2
}
